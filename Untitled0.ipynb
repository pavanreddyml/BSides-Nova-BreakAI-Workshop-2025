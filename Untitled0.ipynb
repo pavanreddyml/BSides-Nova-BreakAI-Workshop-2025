{
  "cells": [
    {
      "cell_type": "code",
      "execution_count": 1,
      "metadata": {
        "colab": {
          "base_uri": "https://localhost:8080/"
        },
        "id": "m2OUDa7KfqGN",
        "outputId": "c986ae69-8123-4dd6-f9ba-69fddcfd8b6a"
      },
      "outputs": [],
      "source": [
        "# REPO_NAME = \"BSides-Nova-BreakAI-Workshop-2025\"\n",
        "# !git clone https://github.com/pavanreddyml/{REPO_NAME}.git\n",
        "# !mv {REPO_NAME}/* . && mv {REPO_NAME}/.* . 2>/dev/null\n",
        "# !rm -rf {REPO_NAME}\n",
        "# !pip install -e bsidesnova\n",
        "\n",
        "# !git clone https://github.com/pavanreddyml/adversarial-lab.git\n",
        "# !pip install -e adversarial-lab"
      ]
    },
    {
      "cell_type": "code",
      "execution_count": 2,
      "metadata": {
        "id": "lAOk8KlfdHJ-"
      },
      "outputs": [
        {
          "data": {
            "text/plain": [
              "{'status': 'ok', 'restart': True}"
            ]
          },
          "execution_count": 2,
          "metadata": {},
          "output_type": "execute_result"
        }
      ],
      "source": [
        "import IPython\n",
        "IPython.Application.instance().kernel.do_shutdown(restart=True)"
      ]
    },
    {
      "cell_type": "code",
      "execution_count": 1,
      "metadata": {
        "id": "vfvshyEe1SAn"
      },
      "outputs": [],
      "source": [
        "from bsidesnova import *"
      ]
    },
    {
      "cell_type": "code",
      "execution_count": 17,
      "metadata": {
        "id": "Krpuwd-kfp7Q"
      },
      "outputs": [
        {
          "data": {
            "application/vnd.jupyter.widget-view+json": {
              "model_id": "736222aebf424702843e97e20b145006",
              "version_major": 2,
              "version_minor": 0
            },
            "text/plain": [
              "VBox(children=(ToggleButtons(description='Category:', layout=Layout(margin='0 0 0 220px'), options=(('Whitebox…"
            ]
          },
          "metadata": {},
          "output_type": "display_data"
        }
      ],
      "source": [
        "widget = AttackSelectorWidget()\n",
        "widget.display()"
      ]
    },
    {
      "cell_type": "code",
      "execution_count": 19,
      "metadata": {},
      "outputs": [
        {
          "data": {
            "text/plain": [
              "{'category': 'whitebox',\n",
              " 'model': 'inception',\n",
              " 'attack': 'Carlini Wagner',\n",
              " 'attack_params': {'C': 0.0,\n",
              "  'kappa': 0.0,\n",
              "  'learning_rate': 0.01,\n",
              "  'verbose': 2},\n",
              " 'image_class': None,\n",
              " 'image_name': None,\n",
              " 'image_array': array([[[199, 198, 193],\n",
              "         [200, 199, 194],\n",
              "         [200, 199, 194],\n",
              "         ...,\n",
              "         [173, 168, 164],\n",
              "         [175, 170, 166],\n",
              "         [173, 168, 164]],\n",
              " \n",
              "        [[200, 199, 194],\n",
              "         [200, 199, 194],\n",
              "         [200, 199, 194],\n",
              "         ...,\n",
              "         [177, 172, 168],\n",
              "         [173, 168, 164],\n",
              "         [167, 162, 158]],\n",
              " \n",
              "        [[200, 199, 194],\n",
              "         [200, 199, 194],\n",
              "         [199, 198, 193],\n",
              "         ...,\n",
              "         [173, 168, 164],\n",
              "         [168, 163, 159],\n",
              "         [162, 157, 153]],\n",
              " \n",
              "        ...,\n",
              " \n",
              "        [[178, 177, 172],\n",
              "         [181, 180, 175],\n",
              "         [180, 179, 174],\n",
              "         ...,\n",
              "         [142, 138, 129],\n",
              "         [142, 138, 129],\n",
              "         [142, 138, 129]],\n",
              " \n",
              "        [[177, 176, 171],\n",
              "         [179, 178, 173],\n",
              "         [178, 177, 172],\n",
              "         ...,\n",
              "         [140, 136, 127],\n",
              "         [141, 137, 128],\n",
              "         [141, 137, 128]],\n",
              " \n",
              "        [[175, 174, 169],\n",
              "         [175, 174, 169],\n",
              "         [174, 173, 168],\n",
              "         ...,\n",
              "         [137, 133, 124],\n",
              "         [138, 134, 125],\n",
              "         [140, 136, 127]]], dtype=uint8),\n",
              " 'target_class_idx': 15}"
            ]
          },
          "execution_count": 19,
          "metadata": {},
          "output_type": "execute_result"
        }
      ],
      "source": [
        "widget.get_configuration()"
      ]
    },
    {
      "cell_type": "code",
      "execution_count": 5,
      "metadata": {
        "colab": {
          "base_uri": "https://localhost:8080/",
          "height": 347
        },
        "id": "1FqvfC5Gfp2I",
        "outputId": "27e3954f-e03c-44fe-d2f6-a71728f39278"
      },
      "outputs": [
        {
          "data": {
            "text/plain": [
              "{'attacker': adversarial_lab.arsenal.adversarial.whitebox.cw.CarliniWagnerAttack,\n",
              " 'model': <Functional name=inception_v3, built=True>,\n",
              " 'preprocess': <function bsidesnova.selectors.Selector.attacker_selector.<locals>.preprocess(sample, *args, **kwargs)>,\n",
              " 'attack_params': {'C': 0.0,\n",
              "  'kappa': 0.0,\n",
              "  'learning_rate': 0.01,\n",
              "  'verbose': 2},\n",
              " 'input_shape': (299, 299, 3),\n",
              " 'sample': array([[[197.56871 , 196.56871 , 191.56871 ],\n",
              "         [203.73412 , 202.73412 , 197.73412 ],\n",
              "         [202.57228 , 201.57228 , 197.57228 ],\n",
              "         ...,\n",
              "         [164.21046 , 161.21046 , 156.21046 ],\n",
              "         [167.09714 , 164.09714 , 159.09714 ],\n",
              "         [168.88464 , 163.88464 , 159.88464 ]],\n",
              " \n",
              "        [[200.81104 , 199.81104 , 194.81104 ],\n",
              "         [202.01909 , 201.01909 , 197.01909 ],\n",
              "         [200.95206 , 199.95206 , 195.95206 ],\n",
              "         ...,\n",
              "         [154.27466 , 151.27466 , 146.27466 ],\n",
              "         [154.5466  , 151.5466  , 146.5466  ],\n",
              "         [168.20618 , 163.20618 , 159.20618 ]],\n",
              " \n",
              "        [[200.73282 , 199.73282 , 195.73282 ],\n",
              "         [205.67056 , 204.67056 , 200.67056 ],\n",
              "         [205.40279 , 204.40279 , 200.40279 ],\n",
              "         ...,\n",
              "         [165.28056 , 162.28056 , 157.28056 ],\n",
              "         [145.58781 , 142.58781 , 137.58781 ],\n",
              "         [161.18515 , 156.18515 , 152.18515 ]],\n",
              " \n",
              "        ...,\n",
              " \n",
              "        [[173.0918  , 172.0918  , 167.0918  ],\n",
              "         [178.502   , 177.502   , 172.502   ],\n",
              "         [173.24911 , 172.24911 , 167.24911 ],\n",
              "         ...,\n",
              "         [ 88.42383 ,  77.42383 ,  71.42383 ],\n",
              "         [135.00914 , 126.00913 , 119.00913 ],\n",
              "         [139.29321 , 132.29321 , 126.29321 ]],\n",
              " \n",
              "        [[168.21582 , 167.21582 , 162.21582 ],\n",
              "         [178.33742 , 177.33742 , 173.33742 ],\n",
              "         [172.98883 , 171.98883 , 167.98883 ],\n",
              "         ...,\n",
              "         [107.26903 ,  96.26903 ,  90.26903 ],\n",
              "         [126.340576, 115.340576, 109.340576],\n",
              "         [150.78847 , 143.78847 , 137.78847 ]],\n",
              " \n",
              "        [[172.56874 , 171.56874 , 166.56874 ],\n",
              "         [135.3725  , 134.3725  , 130.3725  ],\n",
              "         [178.2512  , 177.2512  , 173.2512  ],\n",
              "         ...,\n",
              "         [131.38792 , 120.387924, 114.387924],\n",
              "         [142.97124 , 131.97124 , 125.97123 ],\n",
              "         [147.86145 , 140.86145 , 134.86145 ]]], dtype=float32),\n",
              " 'decode_preds': <function keras.src.applications.inception_v3.decode_predictions(preds, top=5)>,\n",
              " 'target_class': 0}"
            ]
          },
          "execution_count": 5,
          "metadata": {},
          "output_type": "execute_result"
        }
      ],
      "source": [
        "selector = Selector(root_path=\"\")\n",
        "conf = selector.attacker_selector(widget.get_configuration())\n",
        "conf\n"
      ]
    }
  ],
  "metadata": {
    "colab": {
      "provenance": []
    },
    "kernelspec": {
      "display_name": "Python 3",
      "name": "python3"
    },
    "language_info": {
      "codemirror_mode": {
        "name": "ipython",
        "version": 3
      },
      "file_extension": ".py",
      "mimetype": "text/x-python",
      "name": "python",
      "nbconvert_exporter": "python",
      "pygments_lexer": "ipython3",
      "version": "3.11.9"
    }
  },
  "nbformat": 4,
  "nbformat_minor": 0
}
