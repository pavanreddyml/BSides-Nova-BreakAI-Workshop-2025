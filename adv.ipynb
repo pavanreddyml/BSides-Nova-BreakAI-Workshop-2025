{
  "cells": [
    {
      "cell_type": "code",
      "execution_count": null,
      "metadata": {
        "colab": {
          "base_uri": "https://localhost:8080/"
        },
        "id": "m2OUDa7KfqGN",
        "outputId": "4b10b53f-a471-4896-f0bd-67d214693edd"
      },
      "outputs": [],
      "source": [
        "REPO_NAME = \"BSides-Nova-BreakAI-Workshop-2025\"\n",
        "!git clone https://github.com/pavanreddyml/{REPO_NAME}.git\n",
        "!mv {REPO_NAME}/* . && mv {REPO_NAME}/.* . 2>/dev/null\n",
        "!rm -rf {REPO_NAME}\n",
        "!pip install -e bsidesnova\n",
        "\n",
        "!pip install -e adversarial-lab"
      ]
    },
    {
      "cell_type": "code",
      "execution_count": null,
      "metadata": {
        "colab": {
          "base_uri": "https://localhost:8080/"
        },
        "id": "lAOk8KlfdHJ-",
        "outputId": "ea9a5435-c624-40a5-bbd4-d40afa3be882"
      },
      "outputs": [],
      "source": [
        "import IPython\n",
        "IPython.Application.instance().kernel.do_shutdown(restart=True)"
      ]
    },
    {
      "cell_type": "code",
      "execution_count": null,
      "metadata": {
        "id": "vfvshyEe1SAn"
      },
      "outputs": [],
      "source": [
        "from adversarial_lab.analytics import *\n",
        "from adversarial_lab.db import SqlliteDB\n",
        "from adversarial_lab.callbacks import EarlyStopping\n",
        "from adversarial_lab.core.optimizers import PGD\n",
        "from adversarial_lab.core.penalties import LpNorm\n",
        "from adversarial_lab.core.losses import CategoricalCrossEntropy\n",
        "from adversarial_lab.attacker.adversarial import WhiteBoxMisclassificationAttack\n",
        "from adversarial_lab.core.noise_generators.tensor import AdditiveNoiseGenerator\n",
        "from adversarial_lab.core.preprocessing import PreprocessingFromFunction\n",
        "from adversarial_lab.core.constraints import POClip, PONoisedSampleBounding\n",
        "from adversarial_lab.arsenal.attacks_base import AttacksBase\n",
        "\n",
        "from adversarial_lab.utils import VideoPlotter, Plotting\n",
        "\n",
        "from PIL import Image\n",
        "import matplotlib.pyplot as plt\n",
        "\n",
        "import numpy as np\n",
        "import tensorflow as tf\n",
        "from tensorflow.keras.preprocessing import image\n",
        "\n",
        "from bsidesnova import *\n",
        "from bsidesnova.selectors import *\n",
        "from bsidesnova.ui import *"
      ]
    },
    {
      "cell_type": "code",
      "execution_count": null,
      "metadata": {
        "colab": {
          "base_uri": "https://localhost:8080/",
          "height": 304
        },
        "id": "Krpuwd-kfp7Q",
        "outputId": "70ca303e-f27c-436e-8575-297d49371444"
      },
      "outputs": [],
      "source": [
        "widget = AttackSelectorUI()\n",
        "widget.display()"
      ]
    },
    {
      "cell_type": "code",
      "execution_count": null,
      "metadata": {
        "colab": {
          "base_uri": "https://localhost:8080/",
          "height": 211
        },
        "id": "1FqvfC5Gfp2I",
        "outputId": "9a8587aa-0861-4ec4-8bc4-ec18cf770f93"
      },
      "outputs": [],
      "source": [
        "selector = AdversarialSelector(root_path=\"\")\n",
        "conf = widget.get_configuration()\n",
        "att_conf = selector.attacker_selector(conf)\n",
        "att_conf[\"on_origial\"] = True"
      ]
    },
    {
      "cell_type": "code",
      "execution_count": null,
      "metadata": {
        "id": "tcaJEhwwKoOO"
      },
      "outputs": [],
      "source": [
        "if conf[\"attack\"] in [\"Deep Fool\", \"Smooth Fool\"]:\n",
        "  early_stopping = EarlyStopping(trigger=\"misclassification\")\n",
        "else:\n",
        "  early_stopping = EarlyStopping(trigger=\"misclassification\", target_class=2, confidence=0.5)\n"
      ]
    },
    {
      "cell_type": "code",
      "execution_count": null,
      "metadata": {
        "id": "xYBad-uRBMPg"
      },
      "outputs": [],
      "source": [
        "db = SqlliteDB(db_path=\"whitebox.db\")\n",
        "analytics = AdversarialAnalytics(\n",
        "    db=db,\n",
        "    trackers=[\n",
        "        ImageTracker(),\n",
        "        LossTracker(),\n",
        "        NoiseStatisticsTracker(),\n",
        "        NoiseTracker(),\n",
        "        PredictionsTracker()\n",
        "    ],\n",
        "    table_name=\"adv\",\n",
        "    force_create_table=True\n",
        "\n",
        ")"
      ]
    },
    {
      "cell_type": "code",
      "execution_count": null,
      "metadata": {
        "id": "ZxhzIhzOK69y"
      },
      "outputs": [],
      "source": [
        "attacker_class = att_conf[\"attacker\"]\n",
        "model = att_conf[\"model\"]\n",
        "preprocess = att_conf[\"preprocess\"]\n",
        "attack_params = att_conf[\"attack_params\"]\n",
        "input_shape = att_conf[\"input_shape\"]\n",
        "sample = att_conf[\"sample\"]\n",
        "decode_preds = att_conf[\"decode_preds\"]\n",
        "target_class = att_conf[\"target_class\"]\n",
        "\n",
        "attack_params[\"analytics\"] = analytics\n",
        "attack_params[\"callbacks\"] = [early_stopping]\n",
        "\n",
        "if conf[\"category\"] == 'whitebox':\n",
        "  def predict(sample):\n",
        "      return model.predict(preprocess(sample), verbose=0)\n",
        "elif conf[\"category\"] == 'blackbox':\n",
        "  def predict(sample):\n",
        "    sample = np.array([sample])\n",
        "    preds = model.predict(sample, verbose=0)\n",
        "    return [pred for pred in preds]\n",
        "\n",
        "predictions = predict(sample)"
      ]
    },
    {
      "cell_type": "code",
      "execution_count": null,
      "metadata": {
        "colab": {
          "base_uri": "https://localhost:8080/",
          "height": 755
        },
        "id": "PEo3yBTA8di9",
        "outputId": "130c449e-9a59-4159-b66b-1cf81d77b9e8"
      },
      "outputs": [],
      "source": [
        "attacker: AttacksBase = attacker_class(model=model, preprocessing_fn=PreprocessingFromFunction.create(preprocess), **attack_params)\n",
        "noise, noise_meta = attacker.attack(sample=sample, target_class=60, epochs=20)"
      ]
    },
    {
      "cell_type": "code",
      "execution_count": null,
      "metadata": {
        "id": "e4Cx6sg9BP_Y"
      },
      "outputs": [],
      "source": [
        "plotter = Plotting(db=db, table_name=\"adv\")\n",
        "plotter.plot_losses()\n",
        "plotter.plot_predictions(n=5)\n",
        "plotter.plot_noise_statistics(\"mean\")\n",
        "plotter.plot_samples(\n",
        "    image=sample,\n",
        "        noise=noise,\n",
        "        config=None,\n",
        "        class_dict=None,\n",
        "        original_class_idx=None,\n",
        "        predicted_class_idx=None,\n",
        "        original_confidence=None,\n",
        "        predicted_confidence=None)"
      ]
    },
    {
      "cell_type": "code",
      "execution_count": null,
      "metadata": {
        "id": "3ol2GvYqBOis"
      },
      "outputs": [],
      "source": [
        "plotter = VideoPlotter(db=db, table_name=\"adv\")\n",
        "plotter.make_video()"
      ]
    },
    {
      "cell_type": "code",
      "execution_count": null,
      "metadata": {
        "id": "-olRUAo7CWge"
      },
      "outputs": [],
      "source": [
        "# display the generated adversarial video output_video.mp4\n",
        "from IPython.display import Video\n",
        "Video(\"output_video.mp4\")"
      ]
    },
    {
      "cell_type": "code",
      "execution_count": null,
      "metadata": {
        "id": "FhOZhYTzClgI"
      },
      "outputs": [],
      "source": [
        "from adversarial_lab.defenses.preprocessing import *"
      ]
    },
    {
      "cell_type": "code",
      "execution_count": null,
      "metadata": {
        "id": "aS7zR4ldS3d-"
      },
      "outputs": [],
      "source": [
        "# Preprocessing UI (Checkboxes and Randomize, max_num)\n",
        "# Preprocessing Selector\n",
        "#"
      ]
    },
    {
      "cell_type": "code",
      "execution_count": null,
      "metadata": {
        "id": "6Zwb9sHwS3a0"
      },
      "outputs": [],
      "source": []
    },
    {
      "cell_type": "code",
      "execution_count": null,
      "metadata": {
        "id": "BiceINZKS3Yf"
      },
      "outputs": [],
      "source": []
    }
  ],
  "metadata": {
    "colab": {
      "provenance": []
    },
    "kernelspec": {
      "display_name": "Python 3",
      "name": "python3"
    },
    "language_info": {
      "codemirror_mode": {
        "name": "ipython",
        "version": 3
      },
      "file_extension": ".py",
      "mimetype": "text/x-python",
      "name": "python",
      "nbconvert_exporter": "python",
      "pygments_lexer": "ipython3",
      "version": "3.11.9"
    }
  },
  "nbformat": 4,
  "nbformat_minor": 0
}
